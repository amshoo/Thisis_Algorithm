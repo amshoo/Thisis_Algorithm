{
 "cells": [
  {
   "cell_type": "code",
   "execution_count": 1,
   "metadata": {},
   "outputs": [
    {
     "name": "stderr",
     "output_type": "stream",
     "text": [
      "ERROR: Could not find a version that satisfies the requirement itertools (from versions: none)\n",
      "ERROR: No matching distribution found for itertools\n",
      "WARNING: You are using pip version 20.0.2; however, version 20.1.1 is available.\n",
      "You should consider upgrading via the 'c:\\users\\administrator\\appdata\\local\\programs\\python\\python36\\python.exe -m pip install --upgrade pip' command.\n"
     ]
    },
    {
     "name": "stdout",
     "output_type": "stream",
     "text": [
      "Requirement already satisfied: ndlib in c:\\users\\administrator\\appdata\\local\\programs\\python\\python36\\lib\\site-packages\\ndlib-5.0.0-py3.6.egg (5.0.0)\n",
      "Requirement already satisfied: netdispatch in c:\\users\\administrator\\appdata\\local\\programs\\python\\python36\\lib\\site-packages (from ndlib) (0.0.3)\n",
      "Requirement already satisfied: python-igraph in c:\\users\\administrator\\appdata\\local\\programs\\python\\python36\\lib\\site-packages (from ndlib) (0.7.1.post6)\n",
      "Requirement already satisfied: numpy in c:\\users\\administrator\\appdata\\local\\programs\\python\\python36\\lib\\site-packages (from ndlib) (1.16.4)\n",
      "Requirement already satisfied: networkx in c:\\users\\administrator\\appdata\\local\\programs\\python\\python36\\lib\\site-packages (from ndlib) (2.3)\n",
      "Requirement already satisfied: dynetx in c:\\users\\administrator\\appdata\\local\\programs\\python\\python36\\lib\\site-packages (from ndlib) (0.2.2)\n",
      "Requirement already satisfied: scipy in c:\\users\\administrator\\appdata\\local\\programs\\python\\python36\\lib\\site-packages (from ndlib) (1.3.1)\n",
      "Requirement already satisfied: bokeh in c:\\users\\administrator\\appdata\\local\\programs\\python\\python36\\lib\\site-packages (from ndlib) (1.3.4)\n",
      "Requirement already satisfied: future in c:\\users\\administrator\\appdata\\local\\programs\\python\\python36\\lib\\site-packages\\future-0.17.1-py3.6.egg (from ndlib) (0.17.1)\n",
      "Requirement already satisfied: decorator>=4.3.0 in c:\\users\\administrator\\appdata\\local\\programs\\python\\python36\\lib\\site-packages (from networkx->ndlib) (4.4.0)\n",
      "Requirement already satisfied: python-dateutil>=2.1 in c:\\users\\administrator\\appdata\\local\\programs\\python\\python36\\lib\\site-packages (from bokeh->ndlib) (2.8.0)\n",
      "Requirement already satisfied: PyYAML>=3.10 in c:\\users\\administrator\\appdata\\local\\programs\\python\\python36\\lib\\site-packages (from bokeh->ndlib) (5.1.2)\n",
      "Requirement already satisfied: Jinja2>=2.7 in c:\\users\\administrator\\appdata\\local\\programs\\python\\python36\\lib\\site-packages (from bokeh->ndlib) (2.10.1)\n",
      "Requirement already satisfied: tornado>=4.3 in c:\\users\\administrator\\appdata\\local\\programs\\python\\python36\\lib\\site-packages (from bokeh->ndlib) (6.0.3)\n",
      "Requirement already satisfied: six>=1.5.2 in c:\\users\\administrator\\appdata\\roaming\\python\\python36\\site-packages (from bokeh->ndlib) (1.12.0)\n",
      "Requirement already satisfied: pillow>=4.0 in c:\\users\\administrator\\appdata\\local\\programs\\python\\python36\\lib\\site-packages (from bokeh->ndlib) (6.1.0)\n",
      "Requirement already satisfied: packaging>=16.8 in c:\\users\\administrator\\appdata\\local\\programs\\python\\python36\\lib\\site-packages (from bokeh->ndlib) (19.1)\n",
      "Requirement already satisfied: MarkupSafe>=0.23 in c:\\users\\administrator\\appdata\\local\\programs\\python\\python36\\lib\\site-packages (from Jinja2>=2.7->bokeh->ndlib) (1.1.1)\n",
      "Requirement already satisfied: attrs in c:\\users\\administrator\\appdata\\local\\programs\\python\\python36\\lib\\site-packages (from packaging>=16.8->bokeh->ndlib) (19.1.0)\n",
      "Requirement already satisfied: pyparsing>=2.0.2 in c:\\users\\administrator\\appdata\\local\\programs\\python\\python36\\lib\\site-packages (from packaging>=16.8->bokeh->ndlib) (2.4.2)\n"
     ]
    },
    {
     "name": "stderr",
     "output_type": "stream",
     "text": [
      "WARNING: You are using pip version 20.0.2; however, version 20.1.1 is available.\n",
      "You should consider upgrading via the 'c:\\users\\administrator\\appdata\\local\\programs\\python\\python36\\python.exe -m pip install --upgrade pip' command.\n"
     ]
    }
   ],
   "source": [
    "!pip install itertools\n",
    "!pip install ndlib\n",
    "\n",
    "import networkx as nx\n",
    "import numpy as np\n",
    "import matplotlib.pyplot as plt\n",
    "import pandas as pd\n",
    "import math\n",
    "from itertools import combinations    \n",
    "import operator"
   ]
  },
  {
   "cell_type": "code",
   "execution_count": 2,
   "metadata": {},
   "outputs": [
    {
     "name": "stdout",
     "output_type": "stream",
     "text": [
      "Choose a Network Index:0\n"
     ]
    }
   ],
   "source": [
    "network_list = [\n",
    "\"Zachary’s_karate_club_(ZKC)\",#0\n",
    "\"Dolphins_Network_(DN)\",#1\n",
    "\"USAir97_Network_(UAN)\",#2\n",
    "\"Bio-Diseasome_(BD)\",#3\n",
    "\"Soc-wiki-Vote_(SWV)\",#4\n",
    "\"E-mail_Network_(EN)\"#5\n",
    "]\n",
    "\n",
    "index = input('Choose a Network Index:')\n",
    "\n",
    "net_name = network_list[int(index)]"
   ]
  },
  {
   "cell_type": "code",
   "execution_count": 3,
   "metadata": {},
   "outputs": [
    {
     "name": "stdout",
     "output_type": "stream",
     "text": [
      "34 78\n"
     ]
    }
   ],
   "source": [
    "import matplotlib.pyplot as plt\n",
    "import networkx as nx\n",
    "\n",
    "if int(index) == 0:\n",
    "    H = nx.karate_club_graph()\n",
    "    #print number of nodes and edges in the network\n",
    "    print(H.number_of_nodes(),H.number_of_edges())\n",
    "else:   \n",
    "    \n",
    "    fh=open(\"DataSet/\"+str(net_name)+\".txt\", 'rb')\n",
    "\n",
    "    H = nx.read_weighted_edgelist(fh,nodetype=int, encoding='utf-8')\n",
    "    fh.close()\n",
    "    #H = nx.convert_node_labels_to_integers(H, first_label=1, ordering=\"default\", label_attribute = None)\n",
    "    #print number of nodes and edges in the network\n",
    "    print(H.number_of_nodes(),H.number_of_edges())"
   ]
  },
  {
   "cell_type": "markdown",
   "metadata": {},
   "source": [
    "<p>Check if the Network is a scale-free network, to be a simplistic scale-free network is a network with a scale-free degree distribution</p>"
   ]
  },
  {
   "cell_type": "code",
   "execution_count": 4,
   "metadata": {},
   "outputs": [
    {
     "data": {
      "image/png": "[encoded data removed]",
      "text/plain": [
       "<Figure size 432x288 with 1 Axes>"
      ]
     },
     "metadata": {
      "needs_background": "light"
     },
     "output_type": "display_data"
    }
   ],
   "source": [
    "\n",
    "import collections\n",
    "\n",
    "degree_sequence = sorted([d for n, d in H.degree()], reverse=True)  # degree sequence\n",
    "# print \"Degree sequence\", degree_sequence\n",
    "degreeCount = collections.Counter(degree_sequence)\n",
    "deg, cnt = zip(*degreeCount.items())\n",
    "    \n",
    "\n",
    "fig, ax = plt.subplots()\n",
    "plt.bar(deg, cnt, width=0.80, color='g')\n",
    "plt.title(\"Degree Histogram - \")\n",
    "plt.ylabel(\"Count\")\n",
    "plt.xlabel(\"Degree\")\n",
    "ax.set_xticks([d + 0.4 for d in deg])\n",
    "ax.set_xticklabels(deg)\n",
    "    \n",
    "plt.savefig(\"img_results/\"+str(net_name)+\"_dd.png\")\n",
    "plt.show()"
   ]
  },
  {
   "cell_type": "code",
   "execution_count": 5,
   "metadata": {},
   "outputs": [
    {
     "name": "stderr",
     "output_type": "stream",
     "text": [
      "c:\\users\\administrator\\appdata\\local\\programs\\python\\python36\\lib\\site-packages\\networkx\\drawing\\nx_pylab.py:579: MatplotlibDeprecationWarning: \n",
      "The iterable function was deprecated in Matplotlib 3.1 and will be removed in 3.3. Use np.iterable instead.\n",
      "  if not cb.iterable(width):\n"
     ]
    },
    {
     "data": {
      "image/png": "[encoded data removed]",
      "text/plain": [
       "<Figure size 432x288 with 1 Axes>"
      ]
     },
     "metadata": {},
     "output_type": "display_data"
    }
   ],
   "source": [
    "#show the network graph\n",
    "plt.clf()\n",
    "nx.draw(H, with_labels = True)\n",
    "plt.savefig(\"img_results/\"+str(net_name)+\"_net_graph.png\")\n",
    "plt.show()"
   ]
  },
  {
   "cell_type": "markdown",
   "metadata": {},
   "source": [
    "<h3>Centrality Table</h3>"
   ]
  },
  {
   "cell_type": "code",
   "execution_count": 6,
   "metadata": {},
   "outputs": [],
   "source": [
    "def Triangles_Ranking(H):\n",
    "    Triangles = list(nx.triangles(H, nodes=None).items())\n",
    "    Triangles.sort(key=lambda elem: elem[1], reverse=True)\n",
    "    Triangles_table = pd.DataFrame(Triangles, columns = ('TR','TR_i'))\n",
    "    \n",
    "    return Triangles, Triangles_table\n",
    "\n",
    "Triangles_list, Triangles_table = Triangles_Ranking(H)\n",
    "\n",
    "def Betweeness_Ranking(H):\n",
    "    Betweeness = list(nx.betweenness_centrality(H).items())\n",
    "    Betweeness.sort(key=lambda elem: elem[1], reverse=True)\n",
    "    Betweeness_table = pd.DataFrame(Betweeness, columns = ('BC','BC_i'))\n",
    "    \n",
    "    return Betweeness,Betweeness_table\n",
    "\n",
    "Betweeness_list,Betweeness_table = Betweeness_Ranking(H)   \n",
    "\n",
    "def closeness_Ranking(H):\n",
    "    Closeness = list(nx.closeness_centrality(H).items())\n",
    "    Closeness.sort(key=lambda elem: elem[1], reverse=True)\n",
    "    Closeness_table = pd.DataFrame(Closeness, columns = ('CNC','CNC_i'))\n",
    "    \n",
    "    return Closeness,Closeness_table\n",
    "\n",
    "Closeness_list,Closeness_table = closeness_Ranking(H)\n",
    "\n",
    "def Pagerank_Ranking(H):\n",
    "    Pagerank = list(nx.pagerank(H, alpha=0.3).items())\n",
    "    Pagerank.sort(key=lambda elem: elem[1], reverse=True)\n",
    "    Pagerank_table = pd.DataFrame(Pagerank, columns = ('PR','PR_i'))\n",
    "    \n",
    "    return Pagerank,Pagerank_table\n",
    "\n",
    "Pagerank_list,Pagerank_table = Pagerank_Ranking(H)"
   ]
  },
  {
   "cell_type": "markdown",
   "metadata": {},
   "source": [
    "### craete a table that conatains all the centrality ranking"
   ]
  },
  {
   "cell_type": "code",
   "execution_count": 7,
   "metadata": {},
   "outputs": [
    {
     "data": {
      "text/html": [
       "<div>\n",
       "<style scoped>\n",
       "    .dataframe tbody tr th:only-of-type {\n",
       "        vertical-align: middle;\n",
       "    }\n",
       "\n",
       "    .dataframe tbody tr th {\n",
       "        vertical-align: top;\n",
       "    }\n",
       "\n",
       "    .dataframe thead th {\n",
       "        text-align: right;\n",
       "    }\n",
       "</style>\n",
       "<table border=\"1\" class=\"dataframe\">\n",
       "  <thead>\n",
       "    <tr style=\"text-align: right;\">\n",
       "      <th></th>\n",
       "      <th>TR</th>\n",
       "      <th>TR_i</th>\n",
       "      <th>BC</th>\n",
       "      <th>BC_i</th>\n",
       "      <th>CNC</th>\n",
       "      <th>CNC_i</th>\n",
       "      <th>PR</th>\n",
       "      <th>PR_i</th>\n",
       "    </tr>\n",
       "  </thead>\n",
       "  <tbody>\n",
       "    <tr>\n",
       "      <th>1</th>\n",
       "      <td>0</td>\n",
       "      <td>18</td>\n",
       "      <td>0</td>\n",
       "      <td>0.437635</td>\n",
       "      <td>0</td>\n",
       "      <td>0.568966</td>\n",
       "      <td>33</td>\n",
       "      <td>0.063634</td>\n",
       "    </tr>\n",
       "    <tr>\n",
       "      <th>2</th>\n",
       "      <td>33</td>\n",
       "      <td>15</td>\n",
       "      <td>33</td>\n",
       "      <td>0.304075</td>\n",
       "      <td>2</td>\n",
       "      <td>0.559322</td>\n",
       "      <td>0</td>\n",
       "      <td>0.060638</td>\n",
       "    </tr>\n",
       "    <tr>\n",
       "      <th>3</th>\n",
       "      <td>32</td>\n",
       "      <td>13</td>\n",
       "      <td>32</td>\n",
       "      <td>0.145247</td>\n",
       "      <td>33</td>\n",
       "      <td>0.550000</td>\n",
       "      <td>32</td>\n",
       "      <td>0.049160</td>\n",
       "    </tr>\n",
       "    <tr>\n",
       "      <th>4</th>\n",
       "      <td>1</td>\n",
       "      <td>12</td>\n",
       "      <td>2</td>\n",
       "      <td>0.143657</td>\n",
       "      <td>31</td>\n",
       "      <td>0.540984</td>\n",
       "      <td>1</td>\n",
       "      <td>0.039268</td>\n",
       "    </tr>\n",
       "    <tr>\n",
       "      <th>5</th>\n",
       "      <td>2</td>\n",
       "      <td>11</td>\n",
       "      <td>31</td>\n",
       "      <td>0.138276</td>\n",
       "      <td>8</td>\n",
       "      <td>0.515625</td>\n",
       "      <td>2</td>\n",
       "      <td>0.038933</td>\n",
       "    </tr>\n",
       "  </tbody>\n",
       "</table>\n",
       "</div>"
      ],
      "text/plain": [
       "   TR  TR_i  BC      BC_i  CNC     CNC_i  PR      PR_i\n",
       "1   0    18   0  0.437635    0  0.568966  33  0.063634\n",
       "2  33    15  33  0.304075    2  0.559322   0  0.060638\n",
       "3  32    13  32  0.145247   33  0.550000  32  0.049160\n",
       "4   1    12   2  0.143657   31  0.540984   1  0.039268\n",
       "5   2    11  31  0.138276    8  0.515625   2  0.038933"
      ]
     },
     "execution_count": 7,
     "metadata": {},
     "output_type": "execute_result"
    }
   ],
   "source": [
    "centrality_table = pd.concat([Triangles_table,Betweeness_table,\n",
    "                         Closeness_table, Pagerank_table], \n",
    "                                 axis=1, sort=False)\n",
    "centrality_table.index = centrality_table.index + 1\n",
    "Top_centrality_table = pd.DataFrame(centrality_table.loc[0:5])\n",
    "Top_centrality_table"
   ]
  },
  {
   "cell_type": "markdown",
   "metadata": {},
   "source": [
    "### save centrality table"
   ]
  },
  {
   "cell_type": "code",
   "execution_count": 8,
   "metadata": {},
   "outputs": [],
   "source": [
    "centrality_table.to_csv('csv_results/'+str(net_name)+'_cent.csv')#save Classical Centrality rankings\n",
    "Top_centrality_table.to_csv('csv_results/'+str(net_name)+'_top_cent.csv')#save top three ranking of the Classical Centrality"
   ]
  },
  {
   "cell_type": "code",
   "execution_count": null,
   "metadata": {},
   "outputs": [],
   "source": []
  },
  {
   "cell_type": "markdown",
   "metadata": {},
   "source": [
    "### Get i's the Triangle Neighbors\n",
    "<p>\n",
    "Definition 4.2: “Given G (V, E) undirected, unweighted graph with V nodes and E edges. We construct a planar sub-network represented by a subgraph Gi. Given Gi let be the list of one-hop is neighbors of node I and let  represents the list of one-hop triangle connected neighbors of node vi. for vj and k neighbors of node vi, if there exists a link between node vj and k then append node j and k to list .”\n",
    "</p>"
   ]
  },
  {
   "cell_type": "code",
   "execution_count": 9,
   "metadata": {},
   "outputs": [],
   "source": [
    "def nodes_in_triangle(H, n):\n",
    "    \"\"\"\n",
    "    Returns the nodes in a graph `G` that are involved in a triangle relationship with the node `n`.\n",
    "    \"\"\"\n",
    "    triangle_nodes = set([n])\n",
    "\n",
    "    # Iterate over all possible triangle relationship combinations\n",
    "    for n1, n2 in combinations(H.neighbors(n), 2):\n",
    "\n",
    "        # Check if n1 and n2 have an edge between them\n",
    "        if H.has_edge(n1, n2):\n",
    "\n",
    "            # Add n1 to triangle_nodes\n",
    "            triangle_nodes.add(n1)\n",
    "\n",
    "            # Add n2 to triangle_nodes\n",
    "            triangle_nodes.add(n2)\n",
    "\n",
    "    return triangle_nodes\n",
    "\n",
    "#Selection Constraint(Equetion)\n",
    "def selection_constrain_of(i):\n",
    "     # degree of N_i:\n",
    "        N_i = subgraph_of(i).number_of_nodes()\n",
    "        # sum(sdeg_j):\n",
    "        sum_sdeg_j = subgraph_of(i).number_of_edges()\n",
    "        # number of triangles: nodes\n",
    "        NT_i = nx.triangles(H,i)\n",
    "        if NT_i > 1:\n",
    "        #equetion 1:selection constrain        \n",
    "            TR_i = (N_i-((sum_sdeg_j-N_i)/2))            \n",
    "            return  TR_i\n",
    "    \n",
    "#Selection Algorithm\n",
    "def Selection_Algorithm():\n",
    "    # main part of AL loop\n",
    "    valid_set = []\n",
    "    for i in H.nodes: \n",
    "        subgraph = subgraph_of(i)\n",
    "        # degree of Ni:\n",
    "        N_i = subgraph.number_of_nodes()\n",
    "        # number of triangles: nodes\n",
    "        NT_i = nx.triangles(H,i)\n",
    "        # Extract the nodes of interest: nodes\n",
    "        nodes = [n for n, d in subgraph.nodes(data=True)]\n",
    "        # Create the set of nodes: nodeset\n",
    "        nodeset = set(nodes)\n",
    "        #equetion 1:selection constrain\n",
    "        if NT_i > 1:\n",
    "            TR_i = selection_constrain_of(i)                   \n",
    "            list1 = i, NT_i     \n",
    "            valid_set.append(list1)\n",
    "                \n",
    "    return  valid_set\n",
    "\n",
    "#return the list of selected nodes\n",
    "def sel_subgraphs():\n",
    "    sel_subgraphs = []\n",
    "    for i in H:\n",
    "        sel_subgraph = H.subgraph(nodes_in_triangle(H, i))\n",
    "        NT_i = nx.triangles(H,i)\n",
    "        if NT_i > 1:            \n",
    "            row = i        \n",
    "            sel_subgraphs.append(row)\n",
    "    return  sel_subgraphs\n",
    "\n",
    "#return a subgraph i\n",
    "def subgraph_of(i):\n",
    "    subgraph = H.subgraph(nodes_in_triangle(H, i))\n",
    "    return  subgraph  "
   ]
  },
  {
   "cell_type": "markdown",
   "metadata": {},
   "source": [
    "<h3>Tr-ceyntrality (TC)</h3>\n",
    "<p>Definition 4.4  Let |Vi | be the number of nodes in node i's one-hop triangle neighborhood (node I included) so that we can simply representas sdegi, as a consequent to the first section of equation (4.1), which is and can also be replaced by and we replace the two unique constrain j1 and j2 as |Vi | and NTi (which is the number of triangles in node i’s neighborhood) respectively. Our modified equations can be defined as:</p>"
   ]
  },
  {
   "cell_type": "code",
   "execution_count": 10,
   "metadata": {},
   "outputs": [],
   "source": [
    "#Equetion 1: Tr-ceyntrality\n",
    "def TC_of(i):\n",
    "    #degree of node i\n",
    "    sdeg_i = (subgraph_of(i).number_of_nodes()-1)\n",
    "    # number of nodes in G_i:\n",
    "    N_i = subgraph_of(i).number_of_nodes()\n",
    "    # number of triangles:\n",
    "    NT_i = nx.triangles(H,i)\n",
    "    #sumof_sdeg_i\n",
    "    sum_sdeg_i = (subgraph_of(i).number_of_edges()*2)\n",
    "    #equetion 3:Tr centrality value of TC_i\n",
    "    #TC_i = (3*(sdeg_i-1)-(2*(N_i)-NT_i))+sum_sdeg_i  \n",
    "  \n",
    "    TC_i = 3*(sdeg_i-1)-(2*(N_i)+NT_i)+sum_sdeg_i+selection_constrain_of(i)\n",
    "    #tc_i= TC_i *0.01\n",
    "    \n",
    "    return   TC_i\n",
    "\n",
    "#Loop tr-ceyntrality of the selected Set Of Subgraphs\n",
    "def loop_TC():\n",
    "    # main part of AL loop\n",
    "    i=0\n",
    "    TC_list=[]\n",
    "    for i in H.nodes:        \n",
    "        # degree of Ni:\n",
    "        N_i = subgraph_of(i).number_of_nodes()\n",
    "        # number of triangles: nodes\n",
    "        NT_i = nx.triangles(H,i)\n",
    "        # Extract the nodes of interest: nodes\n",
    "        nodes = [n for n, d in subgraph_of(i).nodes(data=True)]\n",
    "        # Create the set of nodes: nodeset\n",
    "        nodeset = set(nodes)\n",
    "        #equetion 1:selection constrain\n",
    "        if NT_i > 1:\n",
    "                TR_i = round(TC_of(i), 4)\n",
    "                #TR_i = TC_of(i)\n",
    "                TC = (i, TR_i)       \n",
    "                TC_list.append(TC)               \n",
    "                   \n",
    "    return  TC_list"
   ]
  },
  {
   "cell_type": "markdown",
   "metadata": {},
   "source": [
    "<h3>Graph Entropy (PI)</h3>\n",
    "Entropy-Based Centrality "
   ]
  },
  {
   "cell_type": "code",
   "execution_count": 11,
   "metadata": {},
   "outputs": [],
   "source": [
    "#Graph Entropy \n",
    "\n",
    "def log1(i):\n",
    "    sum_sdeg_i = (subgraph_of(i).number_of_edges()*2)\n",
    "    s1 = math.log(sum_sdeg_i, 10)\n",
    "    return  s1\n",
    "def prob(i, j): \n",
    "    sum_sdeg_i = (subgraph_of(i).number_of_edges()*2)\n",
    "    nodes = subgraph_of(i).nodes\n",
    "    degree = subgraph_of(i).degree[j]\n",
    "    prob=-(degree/sum_sdeg_i )\n",
    "    return prob  \n",
    "def log2(i,j):\n",
    "    degree = subgraph_of(i).degree[j]\n",
    "    log_j = math.log(degree, 10)\n",
    "    return log_j\n",
    "def probs(i):\n",
    "    probs=[]\n",
    "    for i in subgraph_of(i).nodes:\n",
    "        for j in subgraph_of(i).nodes:\n",
    "            enr = (prob(i, j)*log2(i,j)) \n",
    "            #enr=(i, en)\n",
    "        probs.append(enr)  \n",
    "    return probs \n",
    "\n",
    "def PI_of(i):\n",
    "    sum_sdeg_i = (subgraph_of(i).number_of_edges()*2)\n",
    "    NT_i = nx.triangles(H,i)\n",
    "    sdeg=subgraph_of(i).degree(i)\n",
    "    s1 = (math.log(sum_sdeg_i, 10)+NT_i)\n",
    "    #equetion 4:en value of PI_i\n",
    "    PI_i =s1-sum(probs(i))\n",
    "    return PI_i\n",
    "\n",
    "#LOOP PI of the selected Set Of Subgraph\n",
    "def loop_PI():\n",
    "    i=0\n",
    "    PI_list=[]    \n",
    "    for i in sel_subgraphs():\n",
    "        NT_i = nx.triangles(H,i)\n",
    "        if NT_i > 1:            \n",
    "            PI_i = round(PI_of(i), 4)\n",
    "            PI = i, PI_i\n",
    "            PI_list.append(PI)  \n",
    "            \n",
    "    return  PI_list"
   ]
  },
  {
   "cell_type": "markdown",
   "metadata": {},
   "source": [
    "<h3>Constraint Coefficient (CC)</h3>"
   ]
  },
  {
   "cell_type": "code",
   "execution_count": 12,
   "metadata": {},
   "outputs": [],
   "source": [
    "__all__ = ['constraint', 'local_constraint', 'effective_size']\n",
    "\n",
    "def mutual_weight(H, u, v, weight=None):\n",
    "    try:\n",
    "        a_uv = H[u][v].get(weight, 1)\n",
    "    except KeyError:\n",
    "        a_uv = 0\n",
    "    try:\n",
    "        a_vu = H[v][u].get(weight, 1)\n",
    "    except KeyError:\n",
    "        a_vu = 0\n",
    "    return a_uv + a_vu\n",
    "\n",
    "\n",
    "def normalized_mutual_weight(H, u, v, norm=sum, weight=None):\n",
    "    scale = norm(mutual_weight(H, u, w, weight)\n",
    "                 for w in set(nx.all_neighbors(H, u)))\n",
    "    \n",
    "    return 0 if scale == 0 else mutual_weight(H, u, v, weight) / scale\n",
    "\n",
    "#Returns the constraint on all nodes in the graph H\n",
    "def constraint(H, nodes=None, weight=None):   \n",
    "    if nodes is None:\n",
    "        nodes = H\n",
    "    constraint = {}\n",
    "    for v in sel_subgraphs():\n",
    "        # Constraint is not defined for isolated nodes\n",
    "        if len(H[v]) == 0:\n",
    "            constraint[v] = float('nan')\n",
    "            continue\n",
    "        constraint[v] = sum(local_constraint(H, v, n, weight)\n",
    "        for n in set(nx.all_neighbors(H, v)))               \n",
    "    return constraint\n",
    "\n",
    "#Returns the local constraint on the node `u` with respect to the node `v` in the graph H\n",
    "def local_constraint(H, u, v, weight=None):\n",
    "    nmw = normalized_mutual_weight\n",
    "    direct = nmw(H, u, v, weight=weight)\n",
    "    indirect = sum(nmw(H, u, w, weight=weight) * nmw(H, w, v, weight=weight)\n",
    "                   for w in set(nx.all_neighbors(H, u)))\n",
    "    return (direct + indirect) ** 2\n",
    "\n",
    "#Ranking\n",
    "#return sorted list of node and it Constraint_Coefficient\n",
    "sorted_CC = sorted(constraint(H, nodes=None, weight=None).items(), \n",
    "                  key=operator.itemgetter(1))\n",
    "\n",
    "#return the CC of node i\n",
    "def CC_of(i):\n",
    "    CC_of_i = constraint(H, nodes=None, weight=None).get(i)\n",
    "    return CC_of_i"
   ]
  },
  {
   "cell_type": "markdown",
   "metadata": {},
   "source": [
    "<h3>Get Sorted(Rank) Result</h3>"
   ]
  },
  {
   "cell_type": "code",
   "execution_count": 13,
   "metadata": {},
   "outputs": [],
   "source": [
    "def rank_list(unsorted_list):\n",
    "    sorted_list = unsorted_list\n",
    "    sorted_list.sort(key=lambda elem: elem[1], reverse=True)\n",
    "    \n",
    "    return sorted_list\n",
    "#TC_Rank\n",
    "sorted_TC = rank_list(loop_TC())\n",
    "sorted_PI = rank_list(loop_PI())\n",
    "sorted_CC = sorted_CC"
   ]
  },
  {
   "cell_type": "markdown",
   "metadata": {},
   "source": [
    "<h3>To calculate the TPN (Total power of node)</h3>\n",
    "\n",
    "<p>Convert the results to DataFrame</p>\n",
    "<p>concatinate all the three measures in one pd table</p>"
   ]
  },
  {
   "cell_type": "code",
   "execution_count": 14,
   "metadata": {},
   "outputs": [
    {
     "data": {
      "text/html": [
       "<div>\n",
       "<style scoped>\n",
       "    .dataframe tbody tr th:only-of-type {\n",
       "        vertical-align: middle;\n",
       "    }\n",
       "\n",
       "    .dataframe tbody tr th {\n",
       "        vertical-align: top;\n",
       "    }\n",
       "\n",
       "    .dataframe thead th {\n",
       "        text-align: right;\n",
       "    }\n",
       "</style>\n",
       "<table border=\"1\" class=\"dataframe\">\n",
       "  <thead>\n",
       "    <tr style=\"text-align: right;\">\n",
       "      <th></th>\n",
       "      <th>TC</th>\n",
       "      <th>TC_i</th>\n",
       "      <th>PI</th>\n",
       "      <th>PI_i</th>\n",
       "      <th>CC</th>\n",
       "      <th>CC_i</th>\n",
       "    </tr>\n",
       "  </thead>\n",
       "  <tbody>\n",
       "    <tr>\n",
       "      <th>0</th>\n",
       "      <td>0</td>\n",
       "      <td>61.5</td>\n",
       "      <td>0</td>\n",
       "      <td>20.8930</td>\n",
       "      <td>0</td>\n",
       "      <td>0.155423</td>\n",
       "    </tr>\n",
       "    <tr>\n",
       "      <th>1</th>\n",
       "      <td>33</td>\n",
       "      <td>60.0</td>\n",
       "      <td>33</td>\n",
       "      <td>18.2521</td>\n",
       "      <td>33</td>\n",
       "      <td>0.156419</td>\n",
       "    </tr>\n",
       "    <tr>\n",
       "      <th>2</th>\n",
       "      <td>32</td>\n",
       "      <td>51.0</td>\n",
       "      <td>32</td>\n",
       "      <td>15.9536</td>\n",
       "      <td>2</td>\n",
       "      <td>0.185177</td>\n",
       "    </tr>\n",
       "    <tr>\n",
       "      <th>3</th>\n",
       "      <td>1</td>\n",
       "      <td>34.5</td>\n",
       "      <td>1</td>\n",
       "      <td>14.3105</td>\n",
       "      <td>31</td>\n",
       "      <td>0.244575</td>\n",
       "    </tr>\n",
       "    <tr>\n",
       "      <th>4</th>\n",
       "      <td>2</td>\n",
       "      <td>30.0</td>\n",
       "      <td>2</td>\n",
       "      <td>13.0473</td>\n",
       "      <td>32</td>\n",
       "      <td>0.249223</td>\n",
       "    </tr>\n",
       "    <tr>\n",
       "      <th>5</th>\n",
       "      <td>3</td>\n",
       "      <td>25.5</td>\n",
       "      <td>3</td>\n",
       "      <td>12.0129</td>\n",
       "      <td>1</td>\n",
       "      <td>0.279535</td>\n",
       "    </tr>\n",
       "  </tbody>\n",
       "</table>\n",
       "</div>"
      ],
      "text/plain": [
       "   TC  TC_i  PI     PI_i  CC      CC_i\n",
       "0   0  61.5   0  20.8930   0  0.155423\n",
       "1  33  60.0  33  18.2521  33  0.156419\n",
       "2  32  51.0  32  15.9536   2  0.185177\n",
       "3   1  34.5   1  14.3105  31  0.244575\n",
       "4   2  30.0   2  13.0473  32  0.249223\n",
       "5   3  25.5   3  12.0129   1  0.279535"
      ]
     },
     "execution_count": 14,
     "metadata": {},
     "output_type": "execute_result"
    }
   ],
   "source": [
    "#calculate PI and make the PI to have all positive result\n",
    "PI_table1 = pd.DataFrame(sorted_PI, columns = ('PI','PI_i'))\n",
    "PI_table = PI_table1.copy()\n",
    "i = math.sqrt(2)\n",
    "\n",
    "PI_table.PI_i = PI_table.PI_i.where(lambda x: x > 0, lambda x: x + i)\n",
    "#TC \n",
    "TC_table = pd.DataFrame(sorted_TC, columns = ('TC','TC_i'))\n",
    "\n",
    "#CC\n",
    "CC_table = pd.DataFrame(sorted_CC, columns = ('CC','CC_i'))\n",
    "\n",
    "#joint the three \"PI,C,TC\" table together\n",
    "Result_table = pd.concat([TC_table, PI_table, CC_table], axis=1, sort=False)\n",
    "\n",
    "#create a table containing the Top three Rank Nodes\n",
    "Top_five =pd.DataFrame(Result_table.loc[0:5])\n",
    "Top_five"
   ]
  },
  {
   "cell_type": "markdown",
   "metadata": {},
   "source": [
    "<h3>TPN(Total power of node)</h3>"
   ]
  },
  {
   "cell_type": "code",
   "execution_count": 15,
   "metadata": {},
   "outputs": [],
   "source": [
    "#return the total power of node i.\n",
    "def TPN(i):\n",
    "    PI_ofi = PI_of(i)\n",
    "    TC_ofi = TC_of(i)\n",
    "    CC_ofi = CC_of(i)\n",
    "    \n",
    "    #Weight to normalize the measures[0.6,0.2,0.2]\n",
    "    #equation [Total Power of Node]\n",
    "    TPN_i  = (0.4*TC_ofi)+(0.3*PI_ofi)+(0.3*CC_ofi)     \n",
    "\n",
    "    return TPN_i\n",
    "\n",
    "def loop_TPN():\n",
    "    i=0    \n",
    "    #concantinate the unique nodes in top_three ranking, with will remove duplicate \n",
    "    unique_top = list(pd.concat([Top_five['TC'], Top_five['PI'], Top_five['CC']]).unique())\n",
    "    \n",
    "    TPN_listing =[]    \n",
    "    for i in unique_top:          \n",
    "        TPN_ = TPN(i)\n",
    "        i_TPN = [i, TPN_]\n",
    "        TPN_listing.append(i_TPN)\n",
    "        \n",
    "    return  TPN_listing\n",
    "\n",
    "#Sort and Creat a rank table  for TPN\n",
    "sorted_TPN = rank_list(loop_TPN())\n",
    "#return table containing the TPN ranking[TPN_table]\n",
    "TPN = pd.DataFrame(sorted_TPN, columns = ('TPN','TPN_i'))\n",
    "TPN.index = TPN.index + 1\n",
    "#TPN"
   ]
  },
  {
   "cell_type": "markdown",
   "metadata": {},
   "source": [
    "### Create a rank table  for ALL the  [proposed TPN and 4 Centrality Methods ] Measures"
   ]
  },
  {
   "cell_type": "code",
   "execution_count": 16,
   "metadata": {},
   "outputs": [
    {
     "name": "stdout",
     "output_type": "stream",
     "text": [
      "   TR  BC  CNC  PR  TPN\n",
      "1   0   0    0  33    0\n",
      "2  33  33    2   0   33\n",
      "3  32  32   33  32   32\n",
      "4   1   2   31   1    1\n",
      "5   2  31    8   2    2\n"
     ]
    }
   ],
   "source": [
    "#return table containing ALL the Measures\n",
    "Propose_Result_table = pd.concat([TC_table, PI_table, CC_table, TPN], axis=1, sort=False)\n",
    "Top_TPN = pd.DataFrame(TPN.loc[0:5])\n",
    "\n",
    "#return table containing Top_rank node ranking of proposed methos and 4 centrality methods [TR,BC,CNC,PR]\n",
    "top_result = pd.concat([Top_centrality_table ,Top_TPN], axis=1, sort=False)\n",
    "top_rank_table = pd.concat([top_result['TR'] ,top_result['BC'] ,top_result['CNC'],\n",
    "                            top_result['PR'] ,top_result['TPN']], axis=1, sort=False)\n",
    "\n",
    "print(top_rank_table)"
   ]
  },
  {
   "cell_type": "markdown",
   "metadata": {},
   "source": [
    "#### Save CSV file"
   ]
  },
  {
   "cell_type": "code",
   "execution_count": 17,
   "metadata": {},
   "outputs": [],
   "source": [
    "Result_table.to_csv('csv_results/'+str(net_name)+'_propose_result_table.csv')#save the value of (TC,TC_i),(PI,PI_i),(CC,CC_i)\n",
    "top_rank_table.to_csv('csv_results/'+str(net_name)+'_top_rank_table.csv')#save top three of(TC,PI,CC,TPN)"
   ]
  },
  {
   "cell_type": "markdown",
   "metadata": {},
   "source": [
    "### Evaluarting The proposed Method based on change in desity after the removal of set of top_k nodes"
   ]
  },
  {
   "cell_type": "code",
   "execution_count": 18,
   "metadata": {},
   "outputs": [
    {
     "data": {
      "text/html": [
       "<div>\n",
       "<style scoped>\n",
       "    .dataframe tbody tr th:only-of-type {\n",
       "        vertical-align: middle;\n",
       "    }\n",
       "\n",
       "    .dataframe tbody tr th {\n",
       "        vertical-align: top;\n",
       "    }\n",
       "\n",
       "    .dataframe thead th {\n",
       "        text-align: right;\n",
       "    }\n",
       "</style>\n",
       "<table border=\"1\" class=\"dataframe\">\n",
       "  <thead>\n",
       "    <tr style=\"text-align: right;\">\n",
       "      <th></th>\n",
       "      <th>DS</th>\n",
       "      <th>DS_i</th>\n",
       "    </tr>\n",
       "  </thead>\n",
       "  <tbody>\n",
       "    <tr>\n",
       "      <th>0</th>\n",
       "      <td>0</td>\n",
       "      <td>0.916667</td>\n",
       "    </tr>\n",
       "    <tr>\n",
       "      <th>1</th>\n",
       "      <td>33</td>\n",
       "      <td>0.912879</td>\n",
       "    </tr>\n",
       "    <tr>\n",
       "      <th>2</th>\n",
       "      <td>32</td>\n",
       "      <td>0.899621</td>\n",
       "    </tr>\n",
       "    <tr>\n",
       "      <th>3</th>\n",
       "      <td>1</td>\n",
       "      <td>0.892045</td>\n",
       "    </tr>\n",
       "    <tr>\n",
       "      <th>4</th>\n",
       "      <td>2</td>\n",
       "      <td>0.892045</td>\n",
       "    </tr>\n",
       "    <tr>\n",
       "      <th>5</th>\n",
       "      <td>3</td>\n",
       "      <td>0.882576</td>\n",
       "    </tr>\n",
       "  </tbody>\n",
       "</table>\n",
       "</div>"
      ],
      "text/plain": [
       "   DS      DS_i\n",
       "0   0  0.916667\n",
       "1  33  0.912879\n",
       "2  32  0.899621\n",
       "3   1  0.892045\n",
       "4   2  0.892045\n",
       "5   3  0.882576"
      ]
     },
     "execution_count": 18,
     "metadata": {},
     "output_type": "execute_result"
    }
   ],
   "source": [
    "#loop through network and remove a node  from graph and calculate the desity of the remaining graph.\n",
    "def density(H):\n",
    "    i=0\n",
    "    density_list=[]\n",
    "    nodes =  H.nodes\n",
    "    if nodes!= 0:        \n",
    "        #H = nx.karate_club_graph()\n",
    "        for i in H:  \n",
    "            J = H.copy()\n",
    "            ebunch =list(subgraph_of(i).edges)\n",
    "            J.remove_edges_from(ebunch)\n",
    "            J.remove_node(i)\n",
    "            density = nx.density(J)\n",
    "            DS = (i, 1-density)       \n",
    "            density_list.append(DS)\n",
    "            \n",
    "    sorted_density = rank_list(density_list)            \n",
    "    density_Rank_table = pd.DataFrame(sorted_density, columns = ('DS','DS_i'))\n",
    "                                      \n",
    "    return  sorted_density, density_Rank_table\n",
    "\n",
    "sorted_density, density_Rank_table = density(H)\n",
    "top_ds_Rank_table = pd.DataFrame(density_Rank_table.loc[0:5])\n",
    "#print(sorted_density)\n",
    "\n",
    "top_ds_Rank_table\n",
    "#density(H)"
   ]
  },
  {
   "cell_type": "code",
   "execution_count": 19,
   "metadata": {},
   "outputs": [],
   "source": [
    "#Create a CSV file \"\"\n",
    "density_Rank_table.to_csv('csv_results/'+str(net_name)+'_density_Rank.csv')\n",
    "top_ds_Rank_table.to_csv('csv_results/'+str(net_name)+'_top_ds_Rank.csv')"
   ]
  },
  {
   "cell_type": "code",
   "execution_count": 20,
   "metadata": {},
   "outputs": [],
   "source": [
    "#loop through network and remove a node neigborhood from graph and calculate the desity of the remaining graph.\n",
    "def density():\n",
    "    i=0\n",
    "    density_list=[]\n",
    "    nodes =  H.nodes\n",
    "    if nodes!= 0:        \n",
    "        #H = nx.karate_club_graph()\n",
    "        for i in H:  \n",
    "            K = H.copy()\n",
    "            ebunch =list(subgraph_of(i).edges)\n",
    "            K.remove_edges_from(ebunch)\n",
    "            K.remove_node(i)\n",
    "            density = nx.density(K)\n",
    "            DS = (i, density)       \n",
    "            density_list.append(DS)\n",
    "            \n",
    "    return  density_list\n",
    "density_Rank = density()\n",
    "density_Rank.sort(key=lambda elem: elem[1])"
   ]
  },
  {
   "cell_type": "markdown",
   "metadata": {},
   "source": [
    "<h3>Impact on network Density of removing Top 5 Rank Nodes.</h3>\n",
    "    <p>For evaluating Tr-Centrality (TC)</p>"
   ]
  },
  {
   "cell_type": "code",
   "execution_count": 21,
   "metadata": {},
   "outputs": [
    {
     "data": {
      "text/plain": [
       "[[(0.11742424242424243, (0,)),\n",
       "  (0.11742424242424243, (0,)),\n",
       "  (0.11742424242424243, (0,)),\n",
       "  (0.11553030303030302, (33,)),\n",
       "  (0.11742424242424243, (0,))],\n",
       " [(0.07311827956989247, (0, 33, 32)),\n",
       "  (0.07311827956989247, (0, 33, 32)),\n",
       "  (0.07741935483870968, (0, 2, 33)),\n",
       "  (0.07311827956989247, (33, 0, 32)),\n",
       "  (0.07311827956989247, (0, 33, 32))],\n",
       " [(0.046798029556650245, (0, 33, 32, 1, 2)),\n",
       "  (0.05665024630541872, (0, 33, 32, 2, 31)),\n",
       "  (0.07389162561576355, (0, 2, 33, 31, 8)),\n",
       "  (0.046798029556650245, (33, 0, 32, 1, 2)),\n",
       "  (0.046798029556650245, (0, 33, 32, 1, 2))]]"
      ]
     },
     "execution_count": 21,
     "metadata": {},
     "output_type": "execute_result"
    }
   ],
   "source": [
    "#k={1,3,5}\n",
    "#remove a node top_k rank node by [TR,BC,CNC,PR,TPN] from graph and calculate the desity of the remaining graph\n",
    "def top_k(k):\n",
    "    try:\n",
    "        TR_nodes = tuple(top_rank_table['TR'].loc[0:k])\n",
    "        BC_nodes = tuple(top_rank_table['BC'].loc[0:k])\n",
    "        CNC_nodes =tuple(top_rank_table['CNC'].loc[0:k])\n",
    "        PR_nodes = tuple(top_rank_table['PR'].loc[0:k])\n",
    "        TPN_nodes =tuple(top_rank_table['TPN'].loc[0:k])\n",
    "\n",
    "        methods_ranks = [TR_nodes,BC_nodes,CNC_nodes,PR_nodes,TPN_nodes]\n",
    "        density_set = []        \n",
    "        for i in methods_ranks:\n",
    "            J = H.copy()\n",
    "            #J.remove_edges_from(edges)\n",
    "            J.remove_nodes_from(i)\n",
    "            density = nx.density(J),i\n",
    "            density_set.append(density)\n",
    "            \n",
    "        return density_set\n",
    "    except:\n",
    "        print('change k value') \n",
    "#where each tuple (),(),(),(),() in density_set corresond to TR,BC,CNC,PR,TPN.\n",
    "def get_full_density_list():\n",
    "    k = [1,3,5]\n",
    "    den_top_list=[]\n",
    "    for i in k:        \n",
    "        k_1 = top_k(i)\n",
    "        den_top_list.append(k_1)\n",
    "    return den_top_list\n",
    "\n",
    "get_full_density_list()"
   ]
  },
  {
   "cell_type": "code",
   "execution_count": 22,
   "metadata": {},
   "outputs": [],
   "source": [
    "#Create a CSV file \"\""
   ]
  },
  {
   "cell_type": "markdown",
   "metadata": {},
   "source": [
    "<h3>Justification of the three-method (TC (4-10), PI (4-4), CC (4-7)) selected to construct our proposed TPN have a different view of ranking nodes</h3>"
   ]
  },
  {
   "cell_type": "code",
   "execution_count": 23,
   "metadata": {},
   "outputs": [
    {
     "data": {
      "image/png": "[encoded data removed]",
      "text/plain": [
       "<Figure size 432x288 with 1 Axes>"
      ]
     },
     "metadata": {
      "needs_background": "light"
     },
     "output_type": "display_data"
    }
   ],
   "source": [
    "cent = pd.read_csv('csv_results/'+str(net_name)+'_cent.csv') #Get all centralities ranking Table\n",
    "pro = pd.read_csv('csv_results/'+str(net_name)+'_propose_result_table.csv')#Get all three measures(PI,CC,TC) ranking Table\n",
    "rank_table = pd.concat([cent,pro], axis=1, sort=False)#join th two Tables\n",
    "rank_table.index = rank_table.index + 1 #set index to start from 1\n",
    "k=100\n",
    "rank_table = pd.DataFrame(rank_table.loc[0:k]) #Get first k ranking\n",
    "DF= rank_table.drop(['Unnamed: 0'], axis=1)#clean the table\n",
    "\n",
    "\n",
    "#for marker in ['o', '.', ',', 'x', '+', 'v', '^', '<', '>', 's', 'd']:\n",
    "#plt.plot(DF.index.values,DF.TR.values, '^', label=\"TR\")\n",
    "#plt.plot(DF.index.values, DF.BC.values,'<', label=\"BC\")\n",
    "#plt.plot(DF.index.values,DF.CNC.values, 's',label=\"CNC\")\n",
    "#plt.plot(DF.index.values,DF.PR.values,  'd',label=\"PR\")\n",
    "plt.plot(DF.index.values,DF.TC.values,  '^',label=\"TC\")\n",
    "plt.plot(DF.index.values,DF.PI.values,  's',label=\"PI\")\n",
    "plt.plot(DF.index.values,DF.CC.values,  'd',label=\"CC\")\n",
    "\n",
    "#k=100\n",
    "plt.xlabel('1st Top '+str(k)+' - Ranking',fontsize=14)\n",
    "plt.ylabel('Nodes ',fontsize=14);\n",
    "plt.legend(bbox_to_anchor=(0., 1.02, 1., .102), loc='lower left',\n",
    "           ncol=5, mode=\"expand\", borderaxespad=0.,fontsize=12 )\n",
    "\n",
    "plt.savefig(\"img_results/\"+str(net_name)+\"_TCPICC.png\")"
   ]
  },
  {
   "cell_type": "markdown",
   "metadata": {},
   "source": [
    "### Evaluarting The proposed Method based set of top_k Diffusion ability (ndlib)"
   ]
  },
  {
   "cell_type": "code",
   "execution_count": 24,
   "metadata": {},
   "outputs": [],
   "source": [
    "import ndlib.models.ModelConfig as mc\n",
    "import ndlib.models.epidemics as si\n",
    "from ndlib.viz.mpl.TrendComparison import DiffusionTrendComparison\n",
    "import json\n",
    "\n",
    "from ndlib.utils import multi_runs\n",
    "import warnings\n",
    "warnings.filterwarnings(\"ignore\")"
   ]
  },
  {
   "cell_type": "code",
   "execution_count": 25,
   "metadata": {},
   "outputs": [
    {
     "name": "stdout",
     "output_type": "stream",
     "text": [
      "0.13903743315508021\n"
     ]
    },
    {
     "data": {
      "image/png": "[encoded data removed]",
      "text/plain": [
       "<Figure size 432x288 with 1 Axes>"
      ]
     },
     "metadata": {
      "needs_background": "light"
     },
     "output_type": "display_data"
    },
    {
     "data": {
      "image/png": "[encoded data removed]",
      "text/plain": [
       "<Figure size 432x288 with 1 Axes>"
      ]
     },
     "metadata": {
      "needs_background": "light"
     },
     "output_type": "display_data"
    },
    {
     "data": {
      "text/plain": [
       "<Figure size 432x288 with 0 Axes>"
      ]
     },
     "metadata": {},
     "output_type": "display_data"
    }
   ],
   "source": [
    "def get_top_k(k):   \n",
    "    TR_nodes  = list(top_rank_table['TR'].loc[0:k])\n",
    "    BC_nodes  = list(top_rank_table['BC'].loc[0:k])\n",
    "    CNC_nodes = list(top_rank_table['CNC'].loc[0:k])\n",
    "    PR_nodes  = list(top_rank_table['PR'].loc[0:k])\n",
    "    TPN_nodes = list(top_rank_table['TPN'].loc[0:k])\n",
    "    \n",
    "    return TR_nodes,BC_nodes,CNC_nodes,PR_nodes,TPN_nodes\n",
    "k=5 \n",
    "TR_nodes,BC_nodes,CNC_nodes,PR_nodes,TPN_nodes = get_top_k(k)\n",
    "\n",
    "#define param\n",
    "b  = nx.density(H)#+0.05\n",
    "ex = 5\n",
    "it = 100\n",
    "print(b)\n",
    "#================================================================================================\n",
    "# TR_Model selection\n",
    "TR_model = si.SIModel(H)\n",
    "# Model Configuration\n",
    "cfg = mc.Configuration()\n",
    "cfg.add_model_parameter('beta', b)\n",
    "TR_infected_nodes = TR_nodes\n",
    "cfg.add_model_initial_configuration(\"Infected\", TR_infected_nodes)\n",
    "TR_model.set_initial_status(cfg)\n",
    "# Simulation execution\n",
    "iterations = TR_model.iteration_bunch(it)\n",
    "#TR_trends = TR_model.build_trends(iterations)\n",
    "TR_trends = multi_runs(TR_model, execution_number=ex, iteration_number=it, nprocesses=4)\n",
    "#================================================================================================\n",
    "# BC_Model selection\n",
    "BC_model = si.SIModel(H)\n",
    "\n",
    "# Model Configuration\n",
    "cfg = mc.Configuration()\n",
    "cfg.add_model_parameter('beta', b)\n",
    "BC_infected_nodes = BC_nodes\n",
    "cfg.add_model_initial_configuration(\"Infected\", BC_infected_nodes)\n",
    "BC_model.set_initial_status(cfg)\n",
    "\n",
    "# Simulation execution\n",
    "iterations = BC_model.iteration_bunch(it)\n",
    "#BC_trends = BC_model.build_trends(iterations)\n",
    "BC_trends = multi_runs(BC_model, execution_number=ex, iteration_number=it, nprocesses=4)\n",
    "#=================================================================================================\n",
    "# CNC_Model selection\n",
    "CNC_model = si.SIModel(H)\n",
    "\n",
    "# Model Configuration\n",
    "cfg = mc.Configuration()\n",
    "cfg.add_model_parameter('beta', b)\n",
    "CNC_infected_nodes = CNC_nodes\n",
    "cfg.add_model_initial_configuration(\"Infected\", CNC_infected_nodes)\n",
    "CNC_model.set_initial_status(cfg)\n",
    "\n",
    "# Simulation execution\n",
    "iterations = CNC_model.iteration_bunch(it)\n",
    "#CNC_trends = CNC_model.build_trends(iterations)\n",
    "CNC_trends = multi_runs(CNC_model, execution_number=ex, iteration_number=it, nprocesses=4)\n",
    "#=================================================================================================\n",
    "# CNC_Model selection\n",
    "PR_model = si.SIModel(H)\n",
    "\n",
    "# Model Configuration\n",
    "cfg = mc.Configuration()\n",
    "cfg.add_model_parameter('beta', b)\n",
    "PR_infected_nodes = PR_nodes\n",
    "cfg.add_model_initial_configuration(\"Infected\", PR_infected_nodes)\n",
    "PR_model.set_initial_status(cfg)\n",
    "\n",
    "# Simulation execution\n",
    "iterations = PR_model.iteration_bunch(it)\n",
    "#PR_trends = PR_model.build_trends(iterations)\n",
    "PR_trends = multi_runs(PR_model, execution_number=ex, iteration_number=it, nprocesses=4)\n",
    "#=================================================================================================\n",
    "# CNC_Model selection\n",
    "TPN_model = si.SIModel(H)\n",
    "\n",
    "# Model Configuration\n",
    "cfg = mc.Configuration()\n",
    "cfg.add_model_parameter('beta', b)\n",
    "TPN_infected_nodes = TPN_nodes\n",
    "cfg.add_model_initial_configuration(\"Infected\", TPN_infected_nodes)\n",
    "TPN_model.set_initial_status(cfg)\n",
    "\n",
    "# Simulation execution\n",
    "iterations = TPN_model.iteration_bunch(it)\n",
    "#TPN_trends = TPN_model.build_trends(iterations)\n",
    "TPN_trends = multi_runs(PR_model, execution_number=ex, iteration_number=it, nprocesses=4)\n",
    "#=================================================================================================\n",
    "\n",
    "#plot/save diffusion trend\n",
    "from ndlib.viz.mpl.TrendComparison import DiffusionTrendComparison\n",
    "viz = DiffusionTrendComparison([TR_model,BC_model,CNC_model,PR_model,TPN_model],\n",
    "                               [TR_trends,BC_trends,CNC_trends,PR_trends,TPN_trends], statuses=['Infected'])\n",
    "viz.plot(percentile=90)\n",
    "viz.plot(\"img_results/\"+str(net_name)+\"_DiffusionTrend_Top\"+str(k)+\"_\"+str(ex)+\"_\"+str(it)+\"_TR_BC_CNC_PR_TPN.png\",percentile=90)\n",
    "\n",
    "#plot/save diffusion prevalence\n",
    "from ndlib.viz.mpl.PrevalenceComparison import DiffusionPrevalenceComparison\n",
    "viz = DiffusionPrevalenceComparison([TR_model,BC_model,CNC_model,PR_model,TPN_model], \n",
    "                                    [TR_trends,BC_trends,CNC_trends,PR_trends,TPN_trends], statuses=['Infected'])\n",
    "viz.plot(percentile=90)\n",
    "viz.plot(\"img_results/\"+str(net_name)+\"_DiffusionPrevalence_Top\"+str(k)+\"_\"+str(ex)+\"_\"+str(it)+\"_TR_BC_CNC_PR_TPN.png\",percentile=90)"
   ]
  },
  {
   "cell_type": "code",
   "execution_count": null,
   "metadata": {},
   "outputs": [],
   "source": []
  }
 ],
 "metadata": {
  "kernelspec": {
   "display_name": "Python 3",
   "language": "python",
   "name": "python3"
  },
  "language_info": {
   "codemirror_mode": {
    "name": "ipython",
    "version": 3
   },
   "file_extension": ".py",
   "mimetype": "text/x-python",
   "name": "python",
   "nbconvert_exporter": "python",
   "pygments_lexer": "ipython3",
   "version": "3.6.6"
  }
 },
 "nbformat": 4,
 "nbformat_minor": 2
}
